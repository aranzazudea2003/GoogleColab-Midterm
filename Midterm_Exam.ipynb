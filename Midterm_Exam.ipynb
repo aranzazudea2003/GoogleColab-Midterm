{
  "nbformat": 4,
  "nbformat_minor": 0,
  "metadata": {
    "colab": {
      "provenance": [],
      "authorship_tag": "ABX9TyPZme81Tkq1EucLjkkA+mQs",
      "include_colab_link": true
    },
    "kernelspec": {
      "name": "python3",
      "display_name": "Python 3"
    },
    "language_info": {
      "name": "python"
    }
  },
  "cells": [
    {
      "cell_type": "markdown",
      "metadata": {
        "id": "view-in-github",
        "colab_type": "text"
      },
      "source": [
        "<a href=\"https://colab.research.google.com/github/aranzazudea2003/GoogleColab-Midterm/blob/main/Midterm_Exam.ipynb\" target=\"_parent\"><img src=\"https://colab.research.google.com/assets/colab-badge.svg\" alt=\"Open In Colab\"/></a>"
      ]
    },
    {
      "cell_type": "code",
      "source": [
        "#1\n",
        "#Example of poker\n",
        "class MyClass:\n",
        "    def __init__(self, value):\n",
        "        self.value = value\n",
        "\n",
        "    def method(self):\n",
        "        return self.value * 2\n",
        "\n",
        "    def __repr__(self):"
      ],
      "metadata": {
        "id": "0uDP31DJl3BM"
      },
      "execution_count": null,
      "outputs": []
    },
    {
      "cell_type": "code",
      "execution_count": null,
      "metadata": {
        "colab": {
          "base_uri": "https://localhost:8080/",
          "height": 448
        },
        "id": "6TkdrBjjcydb",
        "outputId": "48e7806f-5933-4c67-e9ee-6398e527c7c8"
      },
      "outputs": [
        {
          "output_type": "execute_result",
          "data": {
            "text/plain": [
              "[<matplotlib.lines.Line2D at 0x7f4bad77abc0>]"
            ]
          },
          "metadata": {},
          "execution_count": 1
        },
        {
          "output_type": "display_data",
          "data": {
            "text/plain": [
              "<Figure size 640x480 with 1 Axes>"
            ],
            "image/png": "[encoded data removed]"
          },
          "metadata": {}
        }
      ],
      "source": [
        "#3\n",
        "import numpy as np\n",
        "import matplotlib.pyplot as plt\n",
        "\n",
        "x = np.arange(-10, 10, 0.1)\n",
        "y = -x**2 + 2*x + 8\n",
        "\n",
        "plt.plot(x, y)"
      ]
    },
    {
      "cell_type": "code",
      "source": [
        "import numpy as np\n",
        "\n",
        "# assigning values to the eq\n",
        "a = -1\n",
        "b = 2\n",
        "c = 8\n",
        "\n",
        "max_x = -b/(2*a)\n",
        "print(f\"The max value of x is {max_x}\")\n",
        "\n",
        "max_y = -a * (max_x ** 2) + b * max_x + c\n",
        "print(f\"The max value of y is {max_y}\")"
      ],
      "metadata": {
        "colab": {
          "base_uri": "https://localhost:8080/"
        },
        "id": "Lb4ehhd9dhEA",
        "outputId": "48d55b1c-d49c-4620-c6f1-d1f1e56e94c7"
      },
      "execution_count": null,
      "outputs": [
        {
          "output_type": "stream",
          "name": "stdout",
          "text": [
            "The max value of x is 1.0\n",
            "The max value of y is 11.0\n"
          ]
        }
      ]
    },
    {
      "cell_type": "code",
      "source": [
        "#4.\n",
        "#Here is a pandas dataframe:\n",
        "\n",
        "import numpy as np\n",
        "import pandas as pd\n",
        "\n",
        "df = pd.DataFrame(np.random.randn(4, 4), index=[1, 2, 3, 4], columns=['a', 'b', 'c', 'd'])\n",
        "print(df)\n",
        "\n",
        "#Choose a row and column (whichever you want).\n",
        "#Display the element on that position in 3 ways: index, loc and iloc.\n",
        "\n",
        "row_index = 0\n",
        "col_index = 1\n",
        "element = df.values[row_index, col_index]\n",
        "print(\"\\nElement using index-based selection:\", element) #b1\n",
        "\n",
        "print(df.loc[[1], [\"b\"]]) #(b1)\n",
        "\n",
        "print(df.iloc[0,1]) # the first number of column b (b1)"
      ],
      "metadata": {
        "colab": {
          "base_uri": "https://localhost:8080/"
        },
        "id": "Nt9nxDZ2e_tQ",
        "outputId": "a44efc43-9e65-47b0-86c1-fd3bbada9541"
      },
      "execution_count": null,
      "outputs": [
        {
          "output_type": "stream",
          "name": "stdout",
          "text": [
            "          a         b         c         d\n",
            "1 -1.343399  0.173754 -0.403801  1.509459\n",
            "2 -1.472224  0.529133  1.837382 -0.068923\n",
            "3 -0.716490 -0.731857  0.323644 -1.943672\n",
            "4  0.130150  0.116539 -1.951369 -0.864902\n",
            "\n",
            "Element using index-based selection: 0.17375449576150634\n",
            "          b\n",
            "1  0.173754\n",
            "0.17375449576150634\n"
          ]
        }
      ]
    },
    {
      "cell_type": "code",
      "source": [
        "#5\n",
        "from matplotlib import pylab as plt\n",
        "import pandas as pd\n",
        "import pandas_datareader.data as web\n",
        "import datetime\n",
        "import yfinance as yfin\n",
        "yfin.pdr_override()\n",
        "\n",
        "today = datetime.datetime.today()\n",
        "formatted_date = today.strftime(\"%Y-%m-%d\")\n",
        "df1 = web.DataReader('F', start='2024-01-25', end=formatted_date)\n",
        "df1.index = pd.to_datetime(df1.index)"
      ],
      "metadata": {
        "colab": {
          "base_uri": "https://localhost:8080/"
        },
        "id": "Udwwy6UsjjCy",
        "outputId": "e7ceab76-0bc3-433e-f19f-b6859e29586b"
      },
      "execution_count": null,
      "outputs": [
        {
          "output_type": "stream",
          "name": "stderr",
          "text": [
            "\r[*********************100%%**********************]  1 of 1 completed\n"
          ]
        }
      ]
    },
    {
      "cell_type": "code",
      "source": [
        "number_rows = len(df1)\n",
        "print(f\"The number of rows is {number_rows}\")"
      ],
      "metadata": {
        "colab": {
          "base_uri": "https://localhost:8080/"
        },
        "id": "o6_bdWXHjzso",
        "outputId": "f07e83e2-8be9-4bb1-9a91-07066bbb9481"
      },
      "execution_count": null,
      "outputs": [
        {
          "output_type": "stream",
          "name": "stdout",
          "text": [
            "The number of rows is 64\n"
          ]
        }
      ]
    },
    {
      "cell_type": "code",
      "source": [
        "column_names = df1.columns\n",
        "print(f\"The column names are: {column_names}\")"
      ],
      "metadata": {
        "colab": {
          "base_uri": "https://localhost:8080/"
        },
        "id": "H6mRSpEgkkvS",
        "outputId": "2699cc8a-4471-4359-cb4f-df1b815be42d"
      },
      "execution_count": null,
      "outputs": [
        {
          "output_type": "stream",
          "name": "stdout",
          "text": [
            "The column names are: Index(['Open', 'High', 'Low', 'Close', 'Adj Close', 'Volume'], dtype='object')\n"
          ]
        }
      ]
    },
    {
      "cell_type": "code",
      "source": [
        "highest_val_apr = df1.loc[\"2024-04-11\"].max\n",
        "print(f\"the highest stock value on April 11th is {highest_val_apr}\")"
      ],
      "metadata": {
        "colab": {
          "base_uri": "https://localhost:8080/"
        },
        "id": "MstTopWmk0px",
        "outputId": "bf555ef3-2f33-439f-ce1f-c00d41e687bf"
      },
      "execution_count": null,
      "outputs": [
        {
          "output_type": "stream",
          "name": "stdout",
          "text": [
            "the highest stock value on April 11th is <bound method NDFrame._add_numeric_operations.<locals>.max of Open               13.11\n",
            "High               13.14\n",
            "Low                12.91\n",
            "Close              13.04\n",
            "Adj Close          13.04\n",
            "Volume       38383100.00\n",
            "Name: 2024-04-11 00:00:00, dtype: float64>\n"
          ]
        }
      ]
    },
    {
      "cell_type": "code",
      "source": [
        "plt.plot(df1.index, df1[\"Close\"])\n",
        "plt.title(\"Ford Stock Prices\")\n",
        "plt.xlabel(\"Date\")\n",
        "plt.ylabel(\"Prices (USD)\")\n",
        "plt.xticks(rotation=45)\n",
        "plt.grid(False)\n",
        "plt.show()"
      ],
      "metadata": {
        "colab": {
          "base_uri": "https://localhost:8080/",
          "height": 524
        },
        "id": "DZOEAcxGlSdQ",
        "outputId": "1e85204a-7e60-4d05-ee83-6f1e153a32cf"
      },
      "execution_count": null,
      "outputs": [
        {
          "output_type": "display_data",
          "data": {
            "text/plain": [
              "<Figure size 640x480 with 1 Axes>"
            ],
            "image/png": "[encoded data removed]"
          },
          "metadata": {}
        }
      ]
    },
    {
      "cell_type": "code",
      "source": [
        "import numpy as np\n",
        "\n",
        "a = np.arange(0, 12)\n",
        "print(a)\n",
        "\n",
        "a = a.reshape(3,4)\n",
        "print(a+7)"
      ],
      "metadata": {
        "colab": {
          "base_uri": "https://localhost:8080/"
        },
        "id": "5ZlPBH3PkCmE",
        "outputId": "a2a4ab72-9284-45fd-f5f9-46577bff02fb"
      },
      "execution_count": null,
      "outputs": [
        {
          "output_type": "stream",
          "name": "stdout",
          "text": [
            "[ 0  1  2  3  4  5  6  7  8  9 10 11]\n",
            "[[ 7  8  9 10]\n",
            " [11 12 13 14]\n",
            " [15 16 17 18]]\n"
          ]
        }
      ]
    },
    {
      "cell_type": "code",
      "source": [
        "class AltairChart:\n",
        "    def __init__(self, data):\n",
        "        self.data = data\n",
        "\n",
        "    @classmethod\n",
        "    def from_array(cls, array):\n",
        "        df = pd.DataFrame(array)\n",
        "        return cls(df)"
      ],
      "metadata": {
        "id": "Q5M9ICRjpZ9y"
      },
      "execution_count": null,
      "outputs": []
    },
    {
      "cell_type": "code",
      "source": [
        "import random\n",
        "\n",
        "\n",
        "class Card:\n",
        "    SUITS = [\"♣\", \"♦\", \"♥\",\"♠\"]\n",
        "    RANKS = [\"2\", \"3\", \"4\", \"5\", \"6\", \"7\", \"8\", \"9\", \"10\", \"J\", \"Q\", \"K\", \"A\"]\n",
        "\n",
        "    def __init__(self, rank, suit):\n",
        "        if rank not in self.RANKS:\n",
        "            raise Exception(f\"Invalid rank, must be one of {self.RANKS}\")\n",
        "        if suit not in self.SUITS:\n",
        "            raise Exception(f\"Invalid suit, must be one of {self.SUITS}\")\n",
        "        self._rank = rank\n",
        "        self._suit = suit\n",
        "\n",
        "    def __gt__(self, other):\n",
        "            return self.RANKS.index(self.rank) > self.RANKS.index(other.rank)\n",
        "\n",
        "    def __eq__(self, other):\n",
        "        return self.rank == other.rank\n",
        "\n",
        "    @property\n",
        "    def suit(self):\n",
        "        return self._suit\n",
        "\n",
        "    @property\n",
        "    def rank(self):\n",
        "        return self._rank\n",
        "\n",
        "    def __str__(self):\n",
        "        return f\"{self.rank}{self.suit}\"\n",
        "\n",
        "    def __repr__(self):\n",
        "        return self.__str__()\n",
        "\n",
        "class Deck:\n",
        "    def __init__(self):\n",
        "        cards = []\n",
        "        # iterate over all ranks and suits, create a card and add it to the list\n",
        "        for rank in Card.RANKS:\n",
        "            for suit in Card.SUITS:\n",
        "                card = Card(rank, suit)\n",
        "                cards.append(card)\n",
        "        self._cards = tuple(cards)\n",
        "\n",
        "    @property\n",
        "    def cards(self):\n",
        "        return self._cards\n",
        "\n",
        "    def __str__(self):\n",
        "        return str(self.cards)\n",
        "\n",
        "    def shuffle(self):\n",
        "        # shuffles the cards in the deck\n",
        "        cards = list(self.cards)\n",
        "        random.shuffle(cards)\n",
        "        self._cards = tuple(cards)\n",
        "\n",
        "\n",
        "class Hand:\n",
        "    def __init__ (self, deck):\n",
        "        # deck is shuffled before\n",
        "        cards = []\n",
        "        for i in range (5):\n",
        "            cards.append(deck.cards[i])\n",
        "        self._cards = tuple(cards)\n",
        "\n",
        "    def __str__(self):\n",
        "        return str(self._cards)\n",
        "\n",
        "\n",
        "    @property\n",
        "    def cards(self):\n",
        "        return self._cards\n",
        "\n",
        "    @property\n",
        "    def is_flush(self):\n",
        "        suit = self._cards[0].suit\n",
        "        for i in range(1, 5):\n",
        "            if self._cards[i].suit != suit:\n",
        "                return False\n",
        "        return True\n",
        "\n",
        "    @property\n",
        "    def is_pair(self):\n",
        "        ranks = []\n",
        "        for card in self.cards:\n",
        "            ranks.append(card.rank)\n",
        "        for rank in ranks:\n",
        "            if ranks.count(rank) == 2:\n",
        "                return True\n",
        "        return False\n",
        "\n",
        "    @property\n",
        "    def is_3_kind(self):\n",
        "        ranks = []\n",
        "        for card in self.cards:\n",
        "            ranks.append(card.rank)\n",
        "        for rank in ranks:\n",
        "            if ranks.count(rank) == 3:\n",
        "                return True\n",
        "        return False\n",
        "\n",
        "    @property\n",
        "    def is_4_kind(self):\n",
        "        ranks = []\n",
        "        for card in self.cards:\n",
        "            ranks.append(card.rank)\n",
        "        for rank in ranks:\n",
        "            if ranks.count(rank) == 4:\n",
        "                return True\n",
        "        return False\n",
        "\n",
        "    @property\n",
        "    def is_full_house(self):\n",
        "        return self.is_3_kind and self.is_pair\n",
        "\n",
        "    @property\n",
        "    def is_2_pair(self):\n",
        "        ranks = []\n",
        "        for card in self.cards:\n",
        "            ranks.append(card.rank)\n",
        "        ranks = set(ranks)\n",
        "        return len(ranks) == 3 and not self.is_3_kind\n",
        "\n",
        "    def sort_hand(self):\n",
        "        cards = list(self.cards)\n",
        "        cards.sort()\n",
        "        print(f\"sorted hand is: {cards}\")\n",
        "\n",
        "    @property\n",
        "    def is_straight(self):\n",
        "        cards = list(self.cards)\n",
        "        cards.sort()\n",
        "        distance = cards[4].RANKS.index(cards[4].rank) - cards[0].RANKS.index(cards[0].rank)\n",
        "        return distance == 4 and not self.is_pair and not self.is_3_kind\n",
        "\n",
        "\n",
        "\n",
        "precision = tries = 100\n",
        "i = 0\n",
        "while True:\n",
        "    i = i + 1\n",
        "    d = Deck()\n",
        "    d.shuffle()\n",
        "    hand = Hand(d)\n",
        "    if hand.is_straight:\n",
        "        tries -= 1\n",
        "\n",
        "    if tries == 0:\n",
        "        break\n",
        "\n",
        "probability = precision/i * 100\n",
        "print(f\"The odds of getting a pair {probability}%\")"
      ],
      "metadata": {
        "id": "LvjwHvzjsMqK",
        "outputId": "16333593-eed5-40fd-ee84-4089c2ccef13",
        "colab": {
          "base_uri": "https://localhost:8080/"
        }
      },
      "execution_count": null,
      "outputs": [
        {
          "output_type": "stream",
          "name": "stdout",
          "text": [
            "The odds of getting a pair 0.3554670837480449%\n"
          ]
        }
      ]
    }
  ]
}